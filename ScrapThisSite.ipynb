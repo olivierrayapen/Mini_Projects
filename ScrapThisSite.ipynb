{
 "cells": [
  {
   "cell_type": "code",
   "execution_count": 2,
   "metadata": {},
   "outputs": [],
   "source": [
    "\n",
    "from selenium import webdriver\n",
    "from selenium.webdriver.chrome.options import Options\n",
    "from selenium.webdriver.common.by import By\n",
    "from selenium.webdriver.support.ui import WebDriverWait\n",
    "from selenium.webdriver.support import expected_conditions as EC\n",
    "from bs4 import BeautifulSoup\n"
   ]
  },
  {
   "cell_type": "code",
   "execution_count": 52,
   "metadata": {},
   "outputs": [
    {
     "name": "stdout",
     "output_type": "stream",
     "text": [
      "[{'Turtle Name': 'Carettochelyidae'}, {'Turtle Name': 'Cheloniidae'}, {'Turtle Name': 'Chelydridae'}, {'Turtle Name': 'Dermatemydidae'}, {'Turtle Name': 'Dermochelyidae'}, {'Turtle Name': 'Emydidae'}, {'Turtle Name': 'Geoemydidae'}, {'Turtle Name': 'Kinosternidae'}, {'Turtle Name': 'Platysternidae'}, {'Turtle Name': 'Testudinidae'}, {'Turtle Name': 'Trionychidae'}, {'Turtle Name': 'Chelidae'}, {'Turtle Name': 'Pelomedusidae'}, {'Turtle Name': 'Podocnemididae'}]\n"
     ]
    }
   ],
   "source": [
    "chrome_options = Options()\n",
    "chrome_options.add_argument(\"--headless\")\n",
    "chrome_options.add_argument(\"--no-sandbox\")\n",
    "chrome_options.add_argument(\"--disable-dev-shm-usage\")\n",
    "driver = webdriver.Chrome(options=chrome_options)\n",
    "driver.get('https://www.scrapethissite.com/pages/frames/')\n",
    "\n",
    "wait = WebDriverWait(driver, 10)\n",
    "driver.switch_to.frame(\"iframe\")\n",
    "turtle_cards = []\n",
    "soup = BeautifulSoup(driver.page_source, 'html.parser')\n",
    "turtle_family_cards = soup.find_all('h3')\n",
    "for card in turtle_family_cards:\n",
    "    turtle_name = card.text\n",
    "    turtle_cards.append({'Turtle Name':turtle_name})\n",
    "print(turtle_cards)\n",
    "\n",
    "\n",
    "\n",
    "\n",
    "driver.switch_to.default_content()\n",
    "driver.quit()"
   ]
  }
 ],
 "metadata": {
  "kernelspec": {
   "display_name": ".venv",
   "language": "python",
   "name": "python3"
  },
  "language_info": {
   "codemirror_mode": {
    "name": "ipython",
    "version": 3
   },
   "file_extension": ".py",
   "mimetype": "text/x-python",
   "name": "python",
   "nbconvert_exporter": "python",
   "pygments_lexer": "ipython3",
   "version": "3.12.4"
  }
 },
 "nbformat": 4,
 "nbformat_minor": 2
}
