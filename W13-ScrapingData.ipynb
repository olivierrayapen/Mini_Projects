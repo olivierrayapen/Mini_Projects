{
 "cells": [
  {
   "cell_type": "code",
   "execution_count": 25,
   "metadata": {},
   "outputs": [],
   "source": [
    "import time\n",
    "from selenium import webdriver\n",
    "from selenium.webdriver.chrome.options import Options\n",
    "from selenium.webdriver.common.by import By\n",
    "from selenium.webdriver.support.ui import WebDriverWait\n",
    "from selenium.webdriver.support import expected_conditions as EC\n",
    "from bs4 import BeautifulSoup\n",
    "import datetime"
   ]
  },
  {
   "cell_type": "code",
   "execution_count": 29,
   "metadata": {},
   "outputs": [],
   "source": [
    "\n",
    "chrome_options = Options()\n",
    "chrome_options.add_argument(\"--headless\")  # Run Chrome in headless mode\n",
    "chrome_options.add_argument(\"--no-sandbox\")\n",
    "chrome_options.add_argument(\"--disable-dev-shm-usage\")\n"
   ]
  },
  {
   "cell_type": "code",
   "execution_count": 36,
   "metadata": {},
   "outputs": [
    {
     "name": "stdout",
     "output_type": "stream",
     "text": [
      "Plan Name: Shared Hosting\n",
      "Features: Cost effective and fast for small businesses\n",
      "Price: $3.19/mo\n",
      "Plan Name: VPS Hosting\n",
      "Features: For high traffic sites and larger businesses\n",
      "Price: $9.99/mo\n",
      "Plan Name: Dedicated Hosting\n",
      "Features: For the largest sites and custom deployments\n",
      "Price: $35.00/mo\n",
      "Plan Name: cPanel WordPress\n",
      "Features: Expertly tuned hosting with cPanel\n",
      "Price: $3.69/mo\n",
      "Plan Name: Platform InMotion\n",
      "Features: High performance managed WordPress\n",
      "Price: $11.67/mo\n",
      "Plan Name: Shared Hosting\n",
      "Features: \n",
      "Price: $3.19/mo\n",
      "Plan Name: WordPress Hosting\n",
      "Features: \n",
      "Price: $3.69/mo\n",
      "Plan Name: VPS Hosting\n",
      "Features: \n",
      "Price: $9.99/mo\n",
      "Plan Name: Dedicated Hosting\n",
      "Features: \n",
      "Price: $35.00/mo\n"
     ]
    }
   ],
   "source": [
    "\n",
    "driver = webdriver.Chrome(options=chrome_options)\n",
    "driver.get(\"https://www.inmotionhosting.com/\")\n",
    "\n",
    "wait = WebDriverWait(driver, 10)\n",
    "page_source = driver.page_source\n",
    "driver.quit()\n",
    "soup = BeautifulSoup(page_source, \"html.parser\")\n",
    "\n",
    "hosting_plans = []\n",
    "\n",
    "plans_section = soup.find_all('div', class_='imh-rostrum-card')\n",
    "\n",
    "for plan in plans_section:\n",
    "    plan_name_element = plan.find('h3', class_='imh-rostrum-card-title')\n",
    "    plan_name = plan_name_element.text.strip() if plan_name_element else \"\"\n",
    "    plan_features_element = plan.find('div', class_='imh-rostrum-sub-title')\n",
    "    plan_features = plan_features_element.text.strip() if plan_features_element else \"\"\n",
    "    plan_price_element = plan.find('div', class_='imh-rostrum-starting-at-price-discounted')\n",
    "    plan_price = plan_price_element.text.strip() if plan_price_element else \"\"\n",
    "    \n",
    "    hosting_plans.append({\n",
    "        'Plan Name': plan_name,\n",
    "        'Features': plan_features,\n",
    "        'Price': plan_price\n",
    "    })\n",
    "\n",
    "for plan in hosting_plans:\n",
    "    print(f\"Plan Name: {plan['Plan Name']}\")\n",
    "    print(f\"Features: {plan['Features']}\")\n",
    "    print(f\"Price: {plan['Price']}\")\n",
    "       "
   ]
  },
  {
   "cell_type": "code",
   "execution_count": 37,
   "metadata": {},
   "outputs": [
    {
     "name": "stdout",
     "output_type": "stream",
     "text": [
      "           Plan Name                                      Features      Price\n",
      "0     Shared Hosting  Cost effective and fast for small businesses   $3.19/mo\n",
      "1        VPS Hosting  For high traffic sites and larger businesses   $9.99/mo\n",
      "2  Dedicated Hosting  For the largest sites and custom deployments  $35.00/mo\n",
      "3   cPanel WordPress            Expertly tuned hosting with cPanel   $3.69/mo\n",
      "4  Platform InMotion            High performance managed WordPress  $11.67/mo\n",
      "5     Shared Hosting                                                 $3.19/mo\n",
      "6  WordPress Hosting                                                 $3.69/mo\n",
      "7        VPS Hosting                                                 $9.99/mo\n",
      "8  Dedicated Hosting                                                $35.00/mo\n"
     ]
    }
   ],
   "source": [
    "import pandas as pd\n",
    "df = pd.DataFrame(hosting_plans)\n",
    "print(df)"
   ]
  },
  {
   "cell_type": "code",
   "execution_count": 38,
   "metadata": {},
   "outputs": [],
   "source": [
    "df.to_csv('plan details.csv', index=False)"
   ]
  }
 ],
 "metadata": {
  "kernelspec": {
   "display_name": ".venv",
   "language": "python",
   "name": "python3"
  },
  "language_info": {
   "codemirror_mode": {
    "name": "ipython",
    "version": 3
   },
   "file_extension": ".py",
   "mimetype": "text/x-python",
   "name": "python",
   "nbconvert_exporter": "python",
   "pygments_lexer": "ipython3",
   "version": "3.12.4"
  }
 },
 "nbformat": 4,
 "nbformat_minor": 2
}
